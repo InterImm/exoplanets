{
 "metadata": {
  "name": ""
 },
 "nbformat": 3,
 "nbformat_minor": 0,
 "worksheets": [
  {
   "cells": [
    {
     "cell_type": "markdown",
     "metadata": {},
     "source": [
      "This ipython notebook is about the immigration value of exoplanets."
     ]
    },
    {
     "cell_type": "markdown",
     "metadata": {},
     "source": [
      "## Prep"
     ]
    },
    {
     "cell_type": "markdown",
     "metadata": {},
     "source": [
      "## ESI + Distance"
     ]
    },
    {
     "cell_type": "markdown",
     "metadata": {},
     "source": [
      "One of the simple choice is to use the state of the art evaluation of the similarity to Earth and the distance to that planet which determines whether people can reach the planet. ESI, i.e., Earth Similarity Index is our choice for similarity to Earth at this moment. (It has been shown in a paper that PHI, planetary habitatability index could be a better choice however we need to analyze it before incorparating into our equation.)"
     ]
    },
    {
     "cell_type": "code",
     "collapsed": false,
     "input": [],
     "language": "python",
     "metadata": {},
     "outputs": []
    }
   ],
   "metadata": {}
  }
 ]
}