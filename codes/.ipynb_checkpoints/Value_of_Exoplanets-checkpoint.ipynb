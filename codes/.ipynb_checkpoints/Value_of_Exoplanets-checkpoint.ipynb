{
 "metadata": {
  "name": ""
 },
 "nbformat": 3,
 "nbformat_minor": 0,
 "worksheets": [
  {
   "cells": [
    {
     "cell_type": "markdown",
     "metadata": {},
     "source": [
      "This ipython notebook is about the immigration value of exoplanets."
     ]
    },
    {
     "cell_type": "markdown",
     "metadata": {},
     "source": [
      "## Prep"
     ]
    },
    {
     "cell_type": "markdown",
     "metadata": {},
     "source": [
      "## ESI + Distance"
     ]
    },
    {
     "cell_type": "markdown",
     "metadata": {},
     "source": [
      "One of the simple choice is to use the state of the art evaluation of the similarity to Earth and the distance to that planet which determines whether people can reach the planet. ESI, i.e., Earth Similarity Index is our choice for similarity to Earth at this moment. (It has been shown in a paper that PHI, planetary habitability index could be a better choice however we need to analyze it before incorparating into our equation.)"
     ]
    },
    {
     "cell_type": "markdown",
     "metadata": {},
     "source": [
      "The list of potentially habitable exoplanets and their ESI has been CSVized and stored in our repository. https://raw.githubusercontent.com/InterImm/exoplanets/master/data/List_of_Habitable_Exoplanets.csv"
     ]
    },
    {
     "cell_type": "markdown",
     "metadata": {},
     "source": [
      "The equation we gave for this idea is\n",
      "\n",
      "\\begin{equation}\n",
      "\\text{Value}_1 =  \\frac{\\text{ESI}\\cdot \\exp\\left( - L/L_0 \\right)}{1 - L/L_0 + (L/L_0)^2/2 - (L/L_0)^3/6 + (L/L_0)^4/24 }\n",
      "\\end{equation}\n",
      "\n",
      "where L is the distance from earth to the objective planet, $L_0$ is a quantity with length dimension which usually should be the max distance we can transfer a complete society to."
     ]
    },
    {
     "cell_type": "markdown",
     "metadata": {},
     "source": []
    }
   ],
   "metadata": {}
  }
 ]
}